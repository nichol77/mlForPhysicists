{
 "cells": [
  {
   "cell_type": "markdown",
   "id": "009ca585-d7e5-4374-bd40-ac2993a5721e",
   "metadata": {},
   "source": [
    "# Natural Language Processing\n",
    "\n",
    "In this notebook we introudce some of the ideas of natural language processing. To speed things up ww will be using a couple of optional Tensorflow libraries. Tensorflow Hub and Tensoflow Datasets and also a library called tf_keras which is basically the same as the keras already in tensorflow.\n",
    "\n",
    "The content of this notebook is extremely heavily inspired by one of the [Tensorflow tutorials](https://www.tensorflow.org/tutorials/keras/text_classification_with_hub)\n",
    "\n",
    "# Pre-trained models\n",
    "\n",
    "This notebook is the first time in the course that we will be using a pre-trained model (in this case for a text embedding layer). Using these pre-trained models can dranatically speed up certain tasks.\n",
    "\n",
    "## Installing the libraries\n",
    "In the first cell we use pip to install these libraries."
   ]
  },
  {
   "cell_type": "code",
   "execution_count": 1,
   "id": "deafeb56-719f-4742-b9ee-51b07788876b",
   "metadata": {},
   "outputs": [
    {
     "name": "stdout",
     "output_type": "stream",
     "text": [
      "Requirement already satisfied: tensorflow_hub in /Users/rjn/miniforge3/envs/ml-env/lib/python3.12/site-packages (0.16.1)\n",
      "Requirement already satisfied: numpy>=1.12.0 in /Users/rjn/miniforge3/envs/ml-env/lib/python3.12/site-packages (from tensorflow_hub) (2.0.2)\n",
      "Requirement already satisfied: protobuf>=3.19.6 in /Users/rjn/miniforge3/envs/ml-env/lib/python3.12/site-packages (from tensorflow_hub) (5.29.3)\n",
      "Requirement already satisfied: tf-keras>=2.14.1 in /Users/rjn/miniforge3/envs/ml-env/lib/python3.12/site-packages (from tensorflow_hub) (2.18.0)\n",
      "Requirement already satisfied: tensorflow<2.19,>=2.18 in /Users/rjn/miniforge3/envs/ml-env/lib/python3.12/site-packages (from tf-keras>=2.14.1->tensorflow_hub) (2.18.0)\n",
      "Requirement already satisfied: absl-py>=1.0.0 in /Users/rjn/miniforge3/envs/ml-env/lib/python3.12/site-packages (from tensorflow<2.19,>=2.18->tf-keras>=2.14.1->tensorflow_hub) (2.1.0)\n",
      "Requirement already satisfied: astunparse>=1.6.0 in /Users/rjn/miniforge3/envs/ml-env/lib/python3.12/site-packages (from tensorflow<2.19,>=2.18->tf-keras>=2.14.1->tensorflow_hub) (1.6.3)\n",
      "Requirement already satisfied: flatbuffers>=24.3.25 in /Users/rjn/miniforge3/envs/ml-env/lib/python3.12/site-packages (from tensorflow<2.19,>=2.18->tf-keras>=2.14.1->tensorflow_hub) (24.12.23)\n",
      "Requirement already satisfied: gast!=0.5.0,!=0.5.1,!=0.5.2,>=0.2.1 in /Users/rjn/miniforge3/envs/ml-env/lib/python3.12/site-packages (from tensorflow<2.19,>=2.18->tf-keras>=2.14.1->tensorflow_hub) (0.6.0)\n",
      "Requirement already satisfied: google-pasta>=0.1.1 in /Users/rjn/miniforge3/envs/ml-env/lib/python3.12/site-packages (from tensorflow<2.19,>=2.18->tf-keras>=2.14.1->tensorflow_hub) (0.2.0)\n",
      "Requirement already satisfied: libclang>=13.0.0 in /Users/rjn/miniforge3/envs/ml-env/lib/python3.12/site-packages (from tensorflow<2.19,>=2.18->tf-keras>=2.14.1->tensorflow_hub) (18.1.1)\n",
      "Requirement already satisfied: opt-einsum>=2.3.2 in /Users/rjn/miniforge3/envs/ml-env/lib/python3.12/site-packages (from tensorflow<2.19,>=2.18->tf-keras>=2.14.1->tensorflow_hub) (3.4.0)\n",
      "Requirement already satisfied: packaging in /Users/rjn/miniforge3/envs/ml-env/lib/python3.12/site-packages (from tensorflow<2.19,>=2.18->tf-keras>=2.14.1->tensorflow_hub) (24.2)\n",
      "Requirement already satisfied: requests<3,>=2.21.0 in /Users/rjn/miniforge3/envs/ml-env/lib/python3.12/site-packages (from tensorflow<2.19,>=2.18->tf-keras>=2.14.1->tensorflow_hub) (2.32.3)\n",
      "Requirement already satisfied: setuptools in /Users/rjn/miniforge3/envs/ml-env/lib/python3.12/site-packages (from tensorflow<2.19,>=2.18->tf-keras>=2.14.1->tensorflow_hub) (75.8.0)\n",
      "Requirement already satisfied: six>=1.12.0 in /Users/rjn/miniforge3/envs/ml-env/lib/python3.12/site-packages (from tensorflow<2.19,>=2.18->tf-keras>=2.14.1->tensorflow_hub) (1.17.0)\n",
      "Requirement already satisfied: termcolor>=1.1.0 in /Users/rjn/miniforge3/envs/ml-env/lib/python3.12/site-packages (from tensorflow<2.19,>=2.18->tf-keras>=2.14.1->tensorflow_hub) (2.5.0)\n",
      "Requirement already satisfied: typing-extensions>=3.6.6 in /Users/rjn/miniforge3/envs/ml-env/lib/python3.12/site-packages (from tensorflow<2.19,>=2.18->tf-keras>=2.14.1->tensorflow_hub) (4.12.2)\n",
      "Requirement already satisfied: wrapt>=1.11.0 in /Users/rjn/miniforge3/envs/ml-env/lib/python3.12/site-packages (from tensorflow<2.19,>=2.18->tf-keras>=2.14.1->tensorflow_hub) (1.17.2)\n",
      "Requirement already satisfied: grpcio<2.0,>=1.24.3 in /Users/rjn/miniforge3/envs/ml-env/lib/python3.12/site-packages (from tensorflow<2.19,>=2.18->tf-keras>=2.14.1->tensorflow_hub) (1.69.0)\n",
      "Requirement already satisfied: tensorboard<2.19,>=2.18 in /Users/rjn/miniforge3/envs/ml-env/lib/python3.12/site-packages (from tensorflow<2.19,>=2.18->tf-keras>=2.14.1->tensorflow_hub) (2.18.0)\n",
      "Requirement already satisfied: keras>=3.5.0 in /Users/rjn/miniforge3/envs/ml-env/lib/python3.12/site-packages (from tensorflow<2.19,>=2.18->tf-keras>=2.14.1->tensorflow_hub) (3.8.0)\n",
      "Requirement already satisfied: h5py>=3.11.0 in /Users/rjn/miniforge3/envs/ml-env/lib/python3.12/site-packages (from tensorflow<2.19,>=2.18->tf-keras>=2.14.1->tensorflow_hub) (3.12.1)\n",
      "Requirement already satisfied: ml-dtypes<0.5.0,>=0.4.0 in /Users/rjn/miniforge3/envs/ml-env/lib/python3.12/site-packages (from tensorflow<2.19,>=2.18->tf-keras>=2.14.1->tensorflow_hub) (0.4.1)\n",
      "Requirement already satisfied: wheel<1.0,>=0.23.0 in /Users/rjn/miniforge3/envs/ml-env/lib/python3.12/site-packages (from astunparse>=1.6.0->tensorflow<2.19,>=2.18->tf-keras>=2.14.1->tensorflow_hub) (0.45.1)\n",
      "Requirement already satisfied: rich in /Users/rjn/miniforge3/envs/ml-env/lib/python3.12/site-packages (from keras>=3.5.0->tensorflow<2.19,>=2.18->tf-keras>=2.14.1->tensorflow_hub) (13.9.4)\n",
      "Requirement already satisfied: namex in /Users/rjn/miniforge3/envs/ml-env/lib/python3.12/site-packages (from keras>=3.5.0->tensorflow<2.19,>=2.18->tf-keras>=2.14.1->tensorflow_hub) (0.0.8)\n",
      "Requirement already satisfied: optree in /Users/rjn/miniforge3/envs/ml-env/lib/python3.12/site-packages (from keras>=3.5.0->tensorflow<2.19,>=2.18->tf-keras>=2.14.1->tensorflow_hub) (0.13.1)\n",
      "Requirement already satisfied: charset-normalizer<4,>=2 in /Users/rjn/miniforge3/envs/ml-env/lib/python3.12/site-packages (from requests<3,>=2.21.0->tensorflow<2.19,>=2.18->tf-keras>=2.14.1->tensorflow_hub) (3.4.1)\n",
      "Requirement already satisfied: idna<4,>=2.5 in /Users/rjn/miniforge3/envs/ml-env/lib/python3.12/site-packages (from requests<3,>=2.21.0->tensorflow<2.19,>=2.18->tf-keras>=2.14.1->tensorflow_hub) (3.10)\n",
      "Requirement already satisfied: urllib3<3,>=1.21.1 in /Users/rjn/miniforge3/envs/ml-env/lib/python3.12/site-packages (from requests<3,>=2.21.0->tensorflow<2.19,>=2.18->tf-keras>=2.14.1->tensorflow_hub) (1.26.20)\n",
      "Requirement already satisfied: certifi>=2017.4.17 in /Users/rjn/miniforge3/envs/ml-env/lib/python3.12/site-packages (from requests<3,>=2.21.0->tensorflow<2.19,>=2.18->tf-keras>=2.14.1->tensorflow_hub) (2024.12.14)\n",
      "Requirement already satisfied: markdown>=2.6.8 in /Users/rjn/miniforge3/envs/ml-env/lib/python3.12/site-packages (from tensorboard<2.19,>=2.18->tensorflow<2.19,>=2.18->tf-keras>=2.14.1->tensorflow_hub) (3.7)\n",
      "Requirement already satisfied: tensorboard-data-server<0.8.0,>=0.7.0 in /Users/rjn/miniforge3/envs/ml-env/lib/python3.12/site-packages (from tensorboard<2.19,>=2.18->tensorflow<2.19,>=2.18->tf-keras>=2.14.1->tensorflow_hub) (0.7.2)\n",
      "Requirement already satisfied: werkzeug>=1.0.1 in /Users/rjn/miniforge3/envs/ml-env/lib/python3.12/site-packages (from tensorboard<2.19,>=2.18->tensorflow<2.19,>=2.18->tf-keras>=2.14.1->tensorflow_hub) (3.1.3)\n",
      "Requirement already satisfied: MarkupSafe>=2.1.1 in /Users/rjn/miniforge3/envs/ml-env/lib/python3.12/site-packages (from werkzeug>=1.0.1->tensorboard<2.19,>=2.18->tensorflow<2.19,>=2.18->tf-keras>=2.14.1->tensorflow_hub) (3.0.2)\n",
      "Requirement already satisfied: markdown-it-py>=2.2.0 in /Users/rjn/miniforge3/envs/ml-env/lib/python3.12/site-packages (from rich->keras>=3.5.0->tensorflow<2.19,>=2.18->tf-keras>=2.14.1->tensorflow_hub) (3.0.0)\n",
      "Requirement already satisfied: pygments<3.0.0,>=2.13.0 in /Users/rjn/miniforge3/envs/ml-env/lib/python3.12/site-packages (from rich->keras>=3.5.0->tensorflow<2.19,>=2.18->tf-keras>=2.14.1->tensorflow_hub) (2.19.1)\n",
      "Requirement already satisfied: mdurl~=0.1 in /Users/rjn/miniforge3/envs/ml-env/lib/python3.12/site-packages (from markdown-it-py>=2.2.0->rich->keras>=3.5.0->tensorflow<2.19,>=2.18->tf-keras>=2.14.1->tensorflow_hub) (0.1.2)\n",
      "Requirement already satisfied: tensorflow_datasets in /Users/rjn/miniforge3/envs/ml-env/lib/python3.12/site-packages (4.9.7)\n",
      "Requirement already satisfied: absl-py in /Users/rjn/miniforge3/envs/ml-env/lib/python3.12/site-packages (from tensorflow_datasets) (2.1.0)\n",
      "Requirement already satisfied: click in /Users/rjn/miniforge3/envs/ml-env/lib/python3.12/site-packages (from tensorflow_datasets) (8.1.8)\n",
      "Requirement already satisfied: dm-tree in /Users/rjn/miniforge3/envs/ml-env/lib/python3.12/site-packages (from tensorflow_datasets) (0.1.8)\n",
      "Requirement already satisfied: immutabledict in /Users/rjn/miniforge3/envs/ml-env/lib/python3.12/site-packages (from tensorflow_datasets) (4.2.1)\n",
      "Requirement already satisfied: numpy in /Users/rjn/miniforge3/envs/ml-env/lib/python3.12/site-packages (from tensorflow_datasets) (2.0.2)\n",
      "Requirement already satisfied: promise in /Users/rjn/miniforge3/envs/ml-env/lib/python3.12/site-packages (from tensorflow_datasets) (2.3)\n",
      "Requirement already satisfied: protobuf>=3.20 in /Users/rjn/miniforge3/envs/ml-env/lib/python3.12/site-packages (from tensorflow_datasets) (5.29.3)\n",
      "Requirement already satisfied: psutil in /Users/rjn/miniforge3/envs/ml-env/lib/python3.12/site-packages (from tensorflow_datasets) (6.1.1)\n",
      "Requirement already satisfied: pyarrow in /Users/rjn/miniforge3/envs/ml-env/lib/python3.12/site-packages (from tensorflow_datasets) (19.0.0)\n",
      "Requirement already satisfied: requests>=2.19.0 in /Users/rjn/miniforge3/envs/ml-env/lib/python3.12/site-packages (from tensorflow_datasets) (2.32.3)\n",
      "Requirement already satisfied: simple-parsing in /Users/rjn/miniforge3/envs/ml-env/lib/python3.12/site-packages (from tensorflow_datasets) (0.1.6)\n",
      "Requirement already satisfied: tensorflow-metadata in /Users/rjn/miniforge3/envs/ml-env/lib/python3.12/site-packages (from tensorflow_datasets) (1.16.1)\n",
      "Requirement already satisfied: termcolor in /Users/rjn/miniforge3/envs/ml-env/lib/python3.12/site-packages (from tensorflow_datasets) (2.5.0)\n",
      "Requirement already satisfied: toml in /Users/rjn/miniforge3/envs/ml-env/lib/python3.12/site-packages (from tensorflow_datasets) (0.10.2)\n",
      "Requirement already satisfied: tqdm in /Users/rjn/miniforge3/envs/ml-env/lib/python3.12/site-packages (from tensorflow_datasets) (4.67.1)\n",
      "Requirement already satisfied: wrapt in /Users/rjn/miniforge3/envs/ml-env/lib/python3.12/site-packages (from tensorflow_datasets) (1.17.2)\n",
      "Requirement already satisfied: etils>=1.9.1 in /Users/rjn/miniforge3/envs/ml-env/lib/python3.12/site-packages (from etils[edc,enp,epath,epy,etree]>=1.9.1; python_version >= \"3.11\"->tensorflow_datasets) (1.11.0)\n",
      "Requirement already satisfied: fsspec in /Users/rjn/miniforge3/envs/ml-env/lib/python3.12/site-packages (from etils[edc,enp,epath,epy,etree]>=1.9.1; python_version >= \"3.11\"->tensorflow_datasets) (2024.12.0)\n",
      "Requirement already satisfied: importlib_resources in /Users/rjn/miniforge3/envs/ml-env/lib/python3.12/site-packages (from etils[edc,enp,epath,epy,etree]>=1.9.1; python_version >= \"3.11\"->tensorflow_datasets) (6.5.2)\n",
      "Requirement already satisfied: typing_extensions in /Users/rjn/miniforge3/envs/ml-env/lib/python3.12/site-packages (from etils[edc,enp,epath,epy,etree]>=1.9.1; python_version >= \"3.11\"->tensorflow_datasets) (4.12.2)\n",
      "Requirement already satisfied: zipp in /Users/rjn/miniforge3/envs/ml-env/lib/python3.12/site-packages (from etils[edc,enp,epath,epy,etree]>=1.9.1; python_version >= \"3.11\"->tensorflow_datasets) (3.21.0)\n",
      "Requirement already satisfied: charset-normalizer<4,>=2 in /Users/rjn/miniforge3/envs/ml-env/lib/python3.12/site-packages (from requests>=2.19.0->tensorflow_datasets) (3.4.1)\n",
      "Requirement already satisfied: idna<4,>=2.5 in /Users/rjn/miniforge3/envs/ml-env/lib/python3.12/site-packages (from requests>=2.19.0->tensorflow_datasets) (3.10)\n",
      "Requirement already satisfied: urllib3<3,>=1.21.1 in /Users/rjn/miniforge3/envs/ml-env/lib/python3.12/site-packages (from requests>=2.19.0->tensorflow_datasets) (1.26.20)\n",
      "Requirement already satisfied: certifi>=2017.4.17 in /Users/rjn/miniforge3/envs/ml-env/lib/python3.12/site-packages (from requests>=2.19.0->tensorflow_datasets) (2024.12.14)\n",
      "Requirement already satisfied: six in /Users/rjn/miniforge3/envs/ml-env/lib/python3.12/site-packages (from promise->tensorflow_datasets) (1.17.0)\n",
      "Requirement already satisfied: docstring-parser<1.0,>=0.15 in /Users/rjn/miniforge3/envs/ml-env/lib/python3.12/site-packages (from simple-parsing->tensorflow_datasets) (0.16)\n",
      "Requirement already satisfied: googleapis-common-protos<2,>=1.56.4 in /Users/rjn/miniforge3/envs/ml-env/lib/python3.12/site-packages (from tensorflow-metadata->tensorflow_datasets) (1.66.0)\n",
      "Requirement already satisfied: tf_keras in /Users/rjn/miniforge3/envs/ml-env/lib/python3.12/site-packages (2.18.0)\n",
      "Requirement already satisfied: tensorflow<2.19,>=2.18 in /Users/rjn/miniforge3/envs/ml-env/lib/python3.12/site-packages (from tf_keras) (2.18.0)\n",
      "Requirement already satisfied: absl-py>=1.0.0 in /Users/rjn/miniforge3/envs/ml-env/lib/python3.12/site-packages (from tensorflow<2.19,>=2.18->tf_keras) (2.1.0)\n",
      "Requirement already satisfied: astunparse>=1.6.0 in /Users/rjn/miniforge3/envs/ml-env/lib/python3.12/site-packages (from tensorflow<2.19,>=2.18->tf_keras) (1.6.3)\n",
      "Requirement already satisfied: flatbuffers>=24.3.25 in /Users/rjn/miniforge3/envs/ml-env/lib/python3.12/site-packages (from tensorflow<2.19,>=2.18->tf_keras) (24.12.23)\n",
      "Requirement already satisfied: gast!=0.5.0,!=0.5.1,!=0.5.2,>=0.2.1 in /Users/rjn/miniforge3/envs/ml-env/lib/python3.12/site-packages (from tensorflow<2.19,>=2.18->tf_keras) (0.6.0)\n",
      "Requirement already satisfied: google-pasta>=0.1.1 in /Users/rjn/miniforge3/envs/ml-env/lib/python3.12/site-packages (from tensorflow<2.19,>=2.18->tf_keras) (0.2.0)\n",
      "Requirement already satisfied: libclang>=13.0.0 in /Users/rjn/miniforge3/envs/ml-env/lib/python3.12/site-packages (from tensorflow<2.19,>=2.18->tf_keras) (18.1.1)\n",
      "Requirement already satisfied: opt-einsum>=2.3.2 in /Users/rjn/miniforge3/envs/ml-env/lib/python3.12/site-packages (from tensorflow<2.19,>=2.18->tf_keras) (3.4.0)\n",
      "Requirement already satisfied: packaging in /Users/rjn/miniforge3/envs/ml-env/lib/python3.12/site-packages (from tensorflow<2.19,>=2.18->tf_keras) (24.2)\n",
      "Requirement already satisfied: protobuf!=4.21.0,!=4.21.1,!=4.21.2,!=4.21.3,!=4.21.4,!=4.21.5,<6.0.0dev,>=3.20.3 in /Users/rjn/miniforge3/envs/ml-env/lib/python3.12/site-packages (from tensorflow<2.19,>=2.18->tf_keras) (5.29.3)\n",
      "Requirement already satisfied: requests<3,>=2.21.0 in /Users/rjn/miniforge3/envs/ml-env/lib/python3.12/site-packages (from tensorflow<2.19,>=2.18->tf_keras) (2.32.3)\n",
      "Requirement already satisfied: setuptools in /Users/rjn/miniforge3/envs/ml-env/lib/python3.12/site-packages (from tensorflow<2.19,>=2.18->tf_keras) (75.8.0)\n",
      "Requirement already satisfied: six>=1.12.0 in /Users/rjn/miniforge3/envs/ml-env/lib/python3.12/site-packages (from tensorflow<2.19,>=2.18->tf_keras) (1.17.0)\n",
      "Requirement already satisfied: termcolor>=1.1.0 in /Users/rjn/miniforge3/envs/ml-env/lib/python3.12/site-packages (from tensorflow<2.19,>=2.18->tf_keras) (2.5.0)\n",
      "Requirement already satisfied: typing-extensions>=3.6.6 in /Users/rjn/miniforge3/envs/ml-env/lib/python3.12/site-packages (from tensorflow<2.19,>=2.18->tf_keras) (4.12.2)\n",
      "Requirement already satisfied: wrapt>=1.11.0 in /Users/rjn/miniforge3/envs/ml-env/lib/python3.12/site-packages (from tensorflow<2.19,>=2.18->tf_keras) (1.17.2)\n",
      "Requirement already satisfied: grpcio<2.0,>=1.24.3 in /Users/rjn/miniforge3/envs/ml-env/lib/python3.12/site-packages (from tensorflow<2.19,>=2.18->tf_keras) (1.69.0)\n",
      "Requirement already satisfied: tensorboard<2.19,>=2.18 in /Users/rjn/miniforge3/envs/ml-env/lib/python3.12/site-packages (from tensorflow<2.19,>=2.18->tf_keras) (2.18.0)\n",
      "Requirement already satisfied: keras>=3.5.0 in /Users/rjn/miniforge3/envs/ml-env/lib/python3.12/site-packages (from tensorflow<2.19,>=2.18->tf_keras) (3.8.0)\n",
      "Requirement already satisfied: numpy<2.1.0,>=1.26.0 in /Users/rjn/miniforge3/envs/ml-env/lib/python3.12/site-packages (from tensorflow<2.19,>=2.18->tf_keras) (2.0.2)\n",
      "Requirement already satisfied: h5py>=3.11.0 in /Users/rjn/miniforge3/envs/ml-env/lib/python3.12/site-packages (from tensorflow<2.19,>=2.18->tf_keras) (3.12.1)\n",
      "Requirement already satisfied: ml-dtypes<0.5.0,>=0.4.0 in /Users/rjn/miniforge3/envs/ml-env/lib/python3.12/site-packages (from tensorflow<2.19,>=2.18->tf_keras) (0.4.1)\n",
      "Requirement already satisfied: wheel<1.0,>=0.23.0 in /Users/rjn/miniforge3/envs/ml-env/lib/python3.12/site-packages (from astunparse>=1.6.0->tensorflow<2.19,>=2.18->tf_keras) (0.45.1)\n",
      "Requirement already satisfied: rich in /Users/rjn/miniforge3/envs/ml-env/lib/python3.12/site-packages (from keras>=3.5.0->tensorflow<2.19,>=2.18->tf_keras) (13.9.4)\n",
      "Requirement already satisfied: namex in /Users/rjn/miniforge3/envs/ml-env/lib/python3.12/site-packages (from keras>=3.5.0->tensorflow<2.19,>=2.18->tf_keras) (0.0.8)\n",
      "Requirement already satisfied: optree in /Users/rjn/miniforge3/envs/ml-env/lib/python3.12/site-packages (from keras>=3.5.0->tensorflow<2.19,>=2.18->tf_keras) (0.13.1)\n",
      "Requirement already satisfied: charset-normalizer<4,>=2 in /Users/rjn/miniforge3/envs/ml-env/lib/python3.12/site-packages (from requests<3,>=2.21.0->tensorflow<2.19,>=2.18->tf_keras) (3.4.1)\n",
      "Requirement already satisfied: idna<4,>=2.5 in /Users/rjn/miniforge3/envs/ml-env/lib/python3.12/site-packages (from requests<3,>=2.21.0->tensorflow<2.19,>=2.18->tf_keras) (3.10)\n",
      "Requirement already satisfied: urllib3<3,>=1.21.1 in /Users/rjn/miniforge3/envs/ml-env/lib/python3.12/site-packages (from requests<3,>=2.21.0->tensorflow<2.19,>=2.18->tf_keras) (1.26.20)\n",
      "Requirement already satisfied: certifi>=2017.4.17 in /Users/rjn/miniforge3/envs/ml-env/lib/python3.12/site-packages (from requests<3,>=2.21.0->tensorflow<2.19,>=2.18->tf_keras) (2024.12.14)\n",
      "Requirement already satisfied: markdown>=2.6.8 in /Users/rjn/miniforge3/envs/ml-env/lib/python3.12/site-packages (from tensorboard<2.19,>=2.18->tensorflow<2.19,>=2.18->tf_keras) (3.7)\n",
      "Requirement already satisfied: tensorboard-data-server<0.8.0,>=0.7.0 in /Users/rjn/miniforge3/envs/ml-env/lib/python3.12/site-packages (from tensorboard<2.19,>=2.18->tensorflow<2.19,>=2.18->tf_keras) (0.7.2)\n",
      "Requirement already satisfied: werkzeug>=1.0.1 in /Users/rjn/miniforge3/envs/ml-env/lib/python3.12/site-packages (from tensorboard<2.19,>=2.18->tensorflow<2.19,>=2.18->tf_keras) (3.1.3)\n",
      "Requirement already satisfied: MarkupSafe>=2.1.1 in /Users/rjn/miniforge3/envs/ml-env/lib/python3.12/site-packages (from werkzeug>=1.0.1->tensorboard<2.19,>=2.18->tensorflow<2.19,>=2.18->tf_keras) (3.0.2)\n",
      "Requirement already satisfied: markdown-it-py>=2.2.0 in /Users/rjn/miniforge3/envs/ml-env/lib/python3.12/site-packages (from rich->keras>=3.5.0->tensorflow<2.19,>=2.18->tf_keras) (3.0.0)\n",
      "Requirement already satisfied: pygments<3.0.0,>=2.13.0 in /Users/rjn/miniforge3/envs/ml-env/lib/python3.12/site-packages (from rich->keras>=3.5.0->tensorflow<2.19,>=2.18->tf_keras) (2.19.1)\n",
      "Requirement already satisfied: mdurl~=0.1 in /Users/rjn/miniforge3/envs/ml-env/lib/python3.12/site-packages (from markdown-it-py>=2.2.0->rich->keras>=3.5.0->tensorflow<2.19,>=2.18->tf_keras) (0.1.2)\n"
     ]
    }
   ],
   "source": [
    "!pip install tensorflow_hub\n",
    "!pip install tensorflow_datasets\n",
    "!pip install tf_keras"
   ]
  },
  {
   "cell_type": "markdown",
   "id": "4c03a366-c31d-436b-8710-54e87298ca5c",
   "metadata": {},
   "source": [
    "## Import libraries, check versions and GPU availability\n",
    "Next up we import the libraries and check some of the Tensorflow settings and see if you are running on a GPUs or not."
   ]
  },
  {
   "cell_type": "code",
   "execution_count": 2,
   "id": "d6299ffd-73e6-40d1-9856-6c7db957c748",
   "metadata": {},
   "outputs": [
    {
     "name": "stdout",
     "output_type": "stream",
     "text": [
      "Version:  2.18.0\n",
      "Eager mode:  True\n",
      "Hub version:  0.16.1\n",
      "GPU is NOT AVAILABLE\n"
     ]
    }
   ],
   "source": [
    "import tensorflow as tf\n",
    "import tensorflow_hub as hub\n",
    "import tensorflow_datasets as tfds\n",
    "import tf_keras as keras\n",
    "\n",
    "\n",
    "print(\"Version: \", tf.__version__)\n",
    "print(\"Eager mode: \", tf.executing_eagerly())\n",
    "print(\"Hub version: \", hub.__version__)\n",
    "print(\"GPU is\", \"available\" if tf.config.list_physical_devices(\"GPU\") else \"NOT AVAILABLE\")\n",
    "\n",
    "\n"
   ]
  },
  {
   "cell_type": "markdown",
   "id": "175885be-94e8-45b2-991c-261819fef2d1",
   "metadata": {},
   "source": [
    "## Load Internet Movie Database Review Dataset\n",
    "Now we are going to load a text dataset from the [Internet Movie Database](https://www.imdb.com). This dataset consists of reviews of various lengths of text that have been labelled as either positive or negative."
   ]
  },
  {
   "cell_type": "code",
   "execution_count": 3,
   "id": "41ef1e52-f046-4947-9afc-e24f8312b480",
   "metadata": {},
   "outputs": [],
   "source": [
    "# Split the training set into 60% and 40% to end up with 15,000 examples\n",
    "# for training, 10,000 examples for validation and 25,000 examples for testing.\n",
    "train_data, validation_data, test_data = tfds.load(\n",
    "    name=\"imdb_reviews\", \n",
    "    split=('train[:60%]', 'train[60%:]', 'test'),\n",
    "    as_supervised=True)"
   ]
  },
  {
   "cell_type": "markdown",
   "id": "716ecaed-7a35-4006-a982-0b1d2bd173f0",
   "metadata": {},
   "source": [
    "## Printing some example reviews\n",
    "The Tensorflow dataset is an interesting object, in the code below we create a batch of 10 reviews (and labels) and then turn it into a Tensorflow Iterator with `iter` and actually get the values with `next`. At first it might seem a little clunky using tensorflow datasets but they are useful resource to try and understand."
   ]
  },
  {
   "cell_type": "code",
   "execution_count": 4,
   "id": "22f1dfd2-64da-4ffc-affd-53e9246a8640",
   "metadata": {},
   "outputs": [
    {
     "name": "stdout",
     "output_type": "stream",
     "text": [
      "tf.Tensor(\n",
      "[b\"This was an absolutely terrible movie. Don't be lured in by Christopher Walken or Michael Ironside. Both are great actors, but this must simply be their worst role in history. Even their great acting could not redeem this movie's ridiculous storyline. This movie is an early nineties US propaganda piece. The most pathetic scenes were those when the Columbian rebels were making their cases for revolutions. Maria Conchita Alonso appeared phony, and her pseudo-love affair with Walken was nothing but a pathetic emotional plug in a movie that was devoid of any real meaning. I am disappointed that there are movies like this, ruining actor's like Christopher Walken's good name. I could barely sit through it.\"\n",
      " b'I have been known to fall asleep during films, but this is usually due to a combination of things including, really tired, being warm and comfortable on the sette and having just eaten a lot. However on this occasion I fell asleep because the film was rubbish. The plot development was constant. Constantly slow and boring. Things seemed to happen, but with no explanation of what was causing them or why. I admit, I may have missed part of the film, but i watched the majority of it and everything just seemed to happen of its own accord without any real concern for anything else. I cant recommend this film at all.'\n",
      " b'Mann photographs the Alberta Rocky Mountains in a superb fashion, and Jimmy Stewart and Walter Brennan give enjoyable performances as they always seem to do. <br /><br />But come on Hollywood - a Mountie telling the people of Dawson City, Yukon to elect themselves a marshal (yes a marshal!) and to enforce the law themselves, then gunfighters battling it out on the streets for control of the town? <br /><br />Nothing even remotely resembling that happened on the Canadian side of the border during the Klondike gold rush. Mr. Mann and company appear to have mistaken Dawson City for Deadwood, the Canadian North for the American Wild West.<br /><br />Canadian viewers be prepared for a Reefer Madness type of enjoyable howl with this ludicrous plot, or, to shake your head in disgust.'\n",
      " b'This is the kind of film for a snowy Sunday afternoon when the rest of the world can go ahead with its own business as you descend into a big arm-chair and mellow for a couple of hours. Wonderful performances from Cher and Nicolas Cage (as always) gently row the plot along. There are no rapids to cross, no dangerous waters, just a warm and witty paddle through New York life at its best. A family film in every sense and one that deserves the praise it received.'\n",
      " b'As others have mentioned, all the women that go nude in this film are mostly absolutely gorgeous. The plot very ably shows the hypocrisy of the female libido. When men are around they want to be pursued, but when no \"men\" are around, they become the pursuers of a 14 year old boy. And the boy becomes a man really fast (we should all be so lucky at this age!). He then gets up the courage to pursue his true love.'\n",
      " b\"This is a film which should be seen by anybody interested in, effected by, or suffering from an eating disorder. It is an amazingly accurate and sensitive portrayal of bulimia in a teenage girl, its causes and its symptoms. The girl is played by one of the most brilliant young actresses working in cinema today, Alison Lohman, who was later so spectacular in 'Where the Truth Lies'. I would recommend that this film be shown in all schools, as you will never see a better on this subject. Alison Lohman is absolutely outstanding, and one marvels at her ability to convey the anguish of a girl suffering from this compulsive disorder. If barometers tell us the air pressure, Alison Lohman tells us the emotional pressure with the same degree of accuracy. Her emotional range is so precise, each scene could be measured microscopically for its gradations of trauma, on a scale of rising hysteria and desperation which reaches unbearable intensity. Mare Winningham is the perfect choice to play her mother, and does so with immense sympathy and a range of emotions just as finely tuned as Lohman's. Together, they make a pair of sensitive emotional oscillators vibrating in resonance with one another. This film is really an astonishing achievement, and director Katt Shea should be proud of it. The only reason for not seeing it is if you are not interested in people. But even if you like nature films best, this is after all animal behaviour at the sharp edge. Bulimia is an extreme version of how a tormented soul can destroy her own body in a frenzy of despair. And if we don't sympathise with people suffering from the depths of despair, then we are dead inside.\"\n",
      " b'Okay, you have:<br /><br />Penelope Keith as Miss Herringbone-Tweed, B.B.E. (Backbone of England.) She\\'s killed off in the first scene - that\\'s right, folks; this show has no backbone!<br /><br />Peter O\\'Toole as Ol\\' Colonel Cricket from The First War and now the emblazered Lord of the Manor.<br /><br />Joanna Lumley as the ensweatered Lady of the Manor, 20 years younger than the colonel and 20 years past her own prime but still glamourous (Brit spelling, not mine) enough to have a toy-boy on the side. It\\'s alright, they have Col. Cricket\\'s full knowledge and consent (they guy even comes \\'round for Christmas!) Still, she\\'s considerate of the colonel enough to have said toy-boy her own age (what a gal!)<br /><br />David McCallum as said toy-boy, equally as pointlessly glamourous as his squeeze. Pilcher couldn\\'t come up with any cover for him within the story, so she gave him a hush-hush job at the Circus.<br /><br />and finally:<br /><br />Susan Hampshire as Miss Polonia Teacups, Venerable Headmistress of the Venerable Girls\\' Boarding-School, serving tea in her office with a dash of deep, poignant advice for life in the outside world just before graduation. Her best bit of advice: \"I\\'ve only been to Nancherrow (the local Stately Home of England) once. I thought it was very beautiful but, somehow, not part of the real world.\" Well, we can\\'t say they didn\\'t warn us.<br /><br />Ah, Susan - time was, your character would have been running the whole show. They don\\'t write \\'em like that any more. Our loss, not yours.<br /><br />So - with a cast and setting like this, you have the re-makings of \"Brideshead Revisited,\" right?<br /><br />Wrong! They took these 1-dimensional supporting roles because they paid so well. After all, acting is one of the oldest temp-jobs there is (YOU name another!)<br /><br />First warning sign: lots and lots of backlighting. They get around it by shooting outdoors - \"hey, it\\'s just the sunlight!\"<br /><br />Second warning sign: Leading Lady cries a lot. When not crying, her eyes are moist. That\\'s the law of romance novels: Leading Lady is \"dewy-eyed.\"<br /><br />Henceforth, Leading Lady shall be known as L.L.<br /><br />Third warning sign: L.L. actually has stars in her eyes when she\\'s in love. Still, I\\'ll give Emily Mortimer an award just for having to act with that spotlight in her eyes (I wonder . did they use contacts?)<br /><br />And lastly, fourth warning sign: no on-screen female character is \"Mrs.\" She\\'s either \"Miss\" or \"Lady.\"<br /><br />When all was said and done, I still couldn\\'t tell you who was pursuing whom and why. I couldn\\'t even tell you what was said and done.<br /><br />To sum up: they all live through World War II without anything happening to them at all.<br /><br />OK, at the end, L.L. finds she\\'s lost her parents to the Japanese prison camps and baby sis comes home catatonic. Meanwhile (there\\'s always a \"meanwhile,\") some young guy L.L. had a crush on (when, I don\\'t know) comes home from some wartime tough spot and is found living on the street by Lady of the Manor (must be some street if SHE\\'s going to find him there.) Both war casualties are whisked away to recover at Nancherrow (SOMEBODY has to be \"whisked away\" SOMEWHERE in these romance stories!)<br /><br />Great drama.'\n",
      " b'The film is based on a genuine 1950s novel.<br /><br />Journalist Colin McInnes wrote a set of three \"London novels\": \"Absolute Beginners\", \"City of Spades\" and \"Mr Love and Justice\". I have read all three. The first two are excellent. The last, perhaps an experiment that did not come off. But McInnes\\'s work is highly acclaimed; and rightly so. This musical is the novelist\\'s ultimate nightmare - to see the fruits of one\\'s mind being turned into a glitzy, badly-acted, soporific one-dimensional apology of a film that says it captures the spirit of 1950s London, and does nothing of the sort.<br /><br />Thank goodness Colin McInnes wasn\\'t alive to witness it.'\n",
      " b'I really love the sexy action and sci-fi films of the sixties and its because of the actress\\'s that appeared in them. They found the sexiest women to be in these films and it didn\\'t matter if they could act (Remember \"Candy\"?). The reason I was disappointed by this film was because it wasn\\'t nostalgic enough. The story here has a European sci-fi film called \"Dragonfly\" being made and the director is fired. So the producers decide to let a young aspiring filmmaker (Jeremy Davies) to complete the picture. They\\'re is one real beautiful woman in the film who plays Dragonfly but she\\'s barely in it. Film is written and directed by Roman Coppola who uses some of his fathers exploits from his early days and puts it into the script. I wish the film could have been an homage to those early films. They could have lots of cameos by actors who appeared in them. There is one actor in this film who was popular from the sixties and its John Phillip Law (Barbarella). Gerard Depardieu, Giancarlo Giannini and Dean Stockwell appear as well. I guess I\\'m going to have to continue waiting for a director to make a good homage to the films of the sixties. If any are reading this, \"Make it as sexy as you can\"! I\\'ll be waiting!'\n",
      " b'Sure, this one isn\\'t really a blockbuster, nor does it target such a position. \"Dieter\" is the first name of a quite popular German musician, who is either loved or hated for his kind of acting and thats exactly what this movie is about. It is based on the autobiography \"Dieter Bohlen\" wrote a few years ago but isn\\'t meant to be accurate on that. The movie is filled with some sexual offensive content (at least for American standard) which is either amusing (not for the other \"actors\" of course) or dumb - it depends on your individual kind of humor or on you being a \"Bohlen\"-Fan or not. Technically speaking there isn\\'t much to criticize. Speaking of me I find this movie to be an OK-movie.'], shape=(10,), dtype=string)\n"
     ]
    },
    {
     "name": "stderr",
     "output_type": "stream",
     "text": [
      "2025-02-06 15:14:22.236099: I tensorflow/core/kernels/data/tf_record_dataset_op.cc:376] The default buffer size is 262144, which is overridden by the user specified `buffer_size` of 8388608\n",
      "2025-02-06 15:14:22.237980: W tensorflow/core/kernels/data/cache_dataset_ops.cc:914] The calling iterator did not fully read the dataset being cached. In order to avoid unexpected truncation of the dataset, the partially cached contents of the dataset  will be discarded. This can happen if you have an input pipeline similar to `dataset.cache().take(k).repeat()`. You should use `dataset.take(k).cache().repeat()` instead.\n"
     ]
    }
   ],
   "source": [
    "train_examples_batch, train_labels_batch = next(iter(train_data.batch(10)))\n",
    "print(train_examples_batch)"
   ]
  },
  {
   "cell_type": "code",
   "execution_count": 5,
   "id": "43ba1801-118e-4023-aec7-fb5cd859f085",
   "metadata": {},
   "outputs": [
    {
     "name": "stdout",
     "output_type": "stream",
     "text": [
      "tf.Tensor([0 0 0 1 1 1 0 0 0 0], shape=(10,), dtype=int64)\n"
     ]
    }
   ],
   "source": [
    "#Also print the labels\n",
    "print(train_labels_batch)"
   ]
  },
  {
   "cell_type": "markdown",
   "id": "3a9a9dcc-88c2-4c90-8600-1e2309136eb5",
   "metadata": {},
   "source": [
    "## Text Embedding\n",
    "Obvioulsy as we've stated repeatedly in the course neural networks take input vectors (of various sizes) and then apply some combination of matrix multiplications, additions, non-linear activation functions and other mathematical operations. Normally English sentences are not immediately well-suited to these operations so the first stage in any natural language processing is to convert the input into some kind of numerical vector via a process of embedding. Fortunately lots of people have done this before us so in true [Blue Peter](https://www.bbc.co.uk/cbbc/watch/bp-heres-one-i-made-earlier-video-challenge) style we can use one that is already been pre-trained.\n",
    "\n",
    "In the code below we use Tensorflow Hub to get a pre-trained text embedding layer. The embedding we use is the catchily named [google/nnlm-en-dim50/2](https://tfhub.dev/google/nnlm-en-dim50/2) which as it's name suggest is Neural Network Langauge Model in English which encodes sequences into vectors of dimension 50. We create a layer called hub_layer which is trainable but starts off from the already pre-trained weights.\n",
    "\n",
    "#### From TensorFlow's Tutorial\n",
    "There are many other pre-trained text embeddings from TFHub that can be used in this tutorial:\n",
    "\n",
    "* [google/nnlm-en-dim128/2](https://tfhub.dev/google/nnlm-en-dim128/2) - trained with the same NNLM architecture on the same data as [google/nnlm-en-dim50/2](https://tfhub.dev/google/nnlm-en-dim50/2), but with a larger embedding dimension. Larger dimensional embeddings can improve on your task but it may take longer to train your model.\n",
    "* [google/nnlm-en-dim128-with-normalization/2](https://tfhub.dev/google/nnlm-en-dim128-with-normalization/2) - the same as [google/nnlm-en-dim128/2](https://tfhub.dev/google/nnlm-en-dim128/2), but with additional text normalization such as removing punctuation. This can help if the text in your task contains additional characters or punctuation.\n",
    "* [google/universal-sentence-encoder/4](https://tfhub.dev/google/universal-sentence-encoder/4) - a much larger model yielding 512 dimensional embeddings trained with a deep averaging network (DAN) encoder.\n",
    "\n",
    "And many more! Find more [text embedding models](https://tfhub.dev/s?module-type=text-embedding) on TFHub.\n",
    "\n"
   ]
  },
  {
   "cell_type": "code",
   "execution_count": 6,
   "id": "377ae25d-752d-4b63-bc94-f02a230a46b7",
   "metadata": {},
   "outputs": [
    {
     "data": {
      "text/plain": [
       "<tf.Tensor: shape=(3, 50), dtype=float32, numpy=\n",
       "array([[ 0.5423195 , -0.0119017 ,  0.06337538,  0.06862972, -0.16776837,\n",
       "        -0.10581174,  0.16865303, -0.04998824, -0.31148055,  0.07910346,\n",
       "         0.15442263,  0.01488662,  0.03930153,  0.19772711, -0.12215476,\n",
       "        -0.04120981, -0.2704109 , -0.21922152,  0.26517662, -0.80739075,\n",
       "         0.25833532, -0.3100421 ,  0.28683215,  0.1943387 , -0.29036492,\n",
       "         0.03862849, -0.7844411 , -0.0479324 ,  0.4110299 , -0.36388892,\n",
       "        -0.58034706,  0.30269456,  0.3630897 , -0.15227164, -0.44391504,\n",
       "         0.19462997,  0.19528408,  0.05666234,  0.2890704 , -0.28468323,\n",
       "        -0.00531206,  0.0571938 , -0.3201318 , -0.04418665, -0.08550783,\n",
       "        -0.55847436, -0.23336391, -0.20782952, -0.03543064, -0.17533456],\n",
       "       [ 0.56338924, -0.12339553, -0.10862679,  0.7753425 , -0.07667089,\n",
       "        -0.15752277,  0.01872335, -0.08169781, -0.3521876 ,  0.4637341 ,\n",
       "        -0.08492756,  0.07166859, -0.00670817,  0.12686075, -0.19326553,\n",
       "        -0.52626437, -0.3295823 ,  0.14394785,  0.09043556, -0.5417555 ,\n",
       "         0.02468163, -0.15456742,  0.68333143,  0.09068331, -0.45327246,\n",
       "         0.23180096, -0.8615696 ,  0.34480393,  0.12838456, -0.58759046,\n",
       "        -0.4071231 ,  0.23061076,  0.48426893, -0.27128142, -0.5380916 ,\n",
       "         0.47016326,  0.22572741, -0.00830663,  0.2846242 , -0.304985  ,\n",
       "         0.04400365,  0.25025874,  0.14867121,  0.40717036, -0.15422426,\n",
       "        -0.06878027, -0.40825695, -0.3149215 ,  0.09283665, -0.20183425],\n",
       "       [ 0.7456154 ,  0.21256861,  0.14400336,  0.5233862 ,  0.11032254,\n",
       "         0.00902788, -0.3667802 , -0.08938274, -0.24165542,  0.33384594,\n",
       "        -0.11194605, -0.01460047, -0.0071645 ,  0.19562712,  0.00685216,\n",
       "        -0.24886718, -0.42796347,  0.18620004, -0.05241098, -0.66462487,\n",
       "         0.13449019, -0.22205497,  0.08633006,  0.43685386,  0.2972681 ,\n",
       "         0.36140734, -0.7196889 ,  0.05291241, -0.14316116, -0.1573394 ,\n",
       "        -0.15056328, -0.05988009, -0.08178931, -0.15569411, -0.09303783,\n",
       "        -0.18971172,  0.07620788, -0.02541647, -0.27134508, -0.3392682 ,\n",
       "        -0.10296468, -0.27275252, -0.34078008,  0.20083304, -0.26644835,\n",
       "         0.00655449, -0.05141488, -0.04261917, -0.45413622,  0.20023568]],\n",
       "      dtype=float32)>"
      ]
     },
     "execution_count": 6,
     "metadata": {},
     "output_type": "execute_result"
    }
   ],
   "source": [
    "embedding = \"https://tfhub.dev/google/nnlm-en-dim50/2\"\n",
    "hub_layer = hub.KerasLayer(embedding, input_shape=[], \n",
    "                           dtype=tf.string, trainable=True)\n",
    "hub_layer(train_examples_batch[:3])"
   ]
  },
  {
   "cell_type": "markdown",
   "id": "6976f92f-1dd9-4f3b-b1d3-462f33f6729c",
   "metadata": {},
   "source": [
    "## Building a full model\n",
    "To build the full model we need to take our embedding layer and then add a simple fully connected network that ends with a single neuron in the output layer (which we will use to compare to the labels). "
   ]
  },
  {
   "cell_type": "code",
   "execution_count": 7,
   "id": "3cb56c6d-f982-4009-b2d4-03dfcec73e20",
   "metadata": {},
   "outputs": [
    {
     "name": "stdout",
     "output_type": "stream",
     "text": [
      "Model: \"sequential\"\n",
      "_________________________________________________________________\n",
      " Layer (type)                Output Shape              Param #   \n",
      "=================================================================\n",
      " keras_layer (KerasLayer)    (None, 50)                48190600  \n",
      "                                                                 \n",
      " dense (Dense)               (None, 16)                816       \n",
      "                                                                 \n",
      " dense_1 (Dense)             (None, 1)                 17        \n",
      "                                                                 \n",
      "=================================================================\n",
      "Total params: 48191433 (183.84 MB)\n",
      "Trainable params: 48191433 (183.84 MB)\n",
      "Non-trainable params: 0 (0.00 Byte)\n",
      "_________________________________________________________________\n"
     ]
    }
   ],
   "source": [
    "model = keras.Sequential()\n",
    "model.add(hub_layer)\n",
    "model.add(keras.layers.Dense(16, activation='relu'))\n",
    "model.add(keras.layers.Dense(1))\n",
    "\n",
    "model.summary()"
   ]
  },
  {
   "cell_type": "markdown",
   "id": "8f992464-5536-40ac-8573-1dbbd2cb70e9",
   "metadata": {},
   "source": [
    "## Model comments\n",
    "\n",
    "So our full model contains 48,191,433 parameters. But the vast majority of these are in the form of the embedding layer and those parameters are already pre-trained. The fully connected classification part of the network is just 816 + 17 parameters.\n",
    "\n",
    "# Model Compilation\n",
    "\n",
    "We are going to use the `adam` optimizer and since we are doing a binary classification taks we will use BinaryCrossentropy as our loss function.\n",
    "\n",
    "# Model training\n",
    "\n",
    "Then we will train our model for 10 epochs. To speed things up we will only train on a subset of the data."
   ]
  },
  {
   "cell_type": "code",
   "execution_count": 9,
   "id": "1919ddd5-4ca4-4fff-98f0-7147fc4fba21",
   "metadata": {},
   "outputs": [
    {
     "name": "stdout",
     "output_type": "stream",
     "text": [
      "Epoch 1/10\n",
      "30/30 [==============================] - 3s 100ms/step - loss: 0.6590 - accuracy: 0.5397 - val_loss: 0.6145 - val_accuracy: 0.5841\n",
      "Epoch 2/10\n",
      "30/30 [==============================] - 3s 97ms/step - loss: 0.5581 - accuracy: 0.6833 - val_loss: 0.5174 - val_accuracy: 0.7322\n",
      "Epoch 3/10\n",
      "30/30 [==============================] - 3s 97ms/step - loss: 0.4314 - accuracy: 0.7995 - val_loss: 0.4206 - val_accuracy: 0.8204\n",
      "Epoch 4/10\n",
      "30/30 [==============================] - 3s 98ms/step - loss: 0.3153 - accuracy: 0.8787 - val_loss: 0.3547 - val_accuracy: 0.8417\n",
      "Epoch 5/10\n",
      "30/30 [==============================] - 3s 99ms/step - loss: 0.2309 - accuracy: 0.9160 - val_loss: 0.3258 - val_accuracy: 0.8631\n",
      "Epoch 6/10\n",
      "30/30 [==============================] - 3s 97ms/step - loss: 0.1698 - accuracy: 0.9457 - val_loss: 0.3101 - val_accuracy: 0.8668\n",
      "Epoch 7/10\n",
      "30/30 [==============================] - 3s 98ms/step - loss: 0.1240 - accuracy: 0.9642 - val_loss: 0.3070 - val_accuracy: 0.8691\n",
      "Epoch 8/10\n",
      "30/30 [==============================] - 3s 103ms/step - loss: 0.0897 - accuracy: 0.9771 - val_loss: 0.3112 - val_accuracy: 0.8704\n",
      "Epoch 9/10\n",
      "30/30 [==============================] - 4s 128ms/step - loss: 0.0640 - accuracy: 0.9865 - val_loss: 0.3204 - val_accuracy: 0.8698\n",
      "Epoch 10/10\n",
      "30/30 [==============================] - 4s 119ms/step - loss: 0.0458 - accuracy: 0.9919 - val_loss: 0.3331 - val_accuracy: 0.8691\n"
     ]
    }
   ],
   "source": [
    "model.compile(optimizer='adam',\n",
    "              loss=keras.losses.BinaryCrossentropy(from_logits=True),\n",
    "              metrics=['accuracy'])\n",
    "\n",
    "history = model.fit(train_data.shuffle(10000).batch(512),\n",
    "                    epochs=10,\n",
    "                    validation_data=validation_data.batch(512),\n",
    "                    verbose=1)"
   ]
  },
  {
   "cell_type": "markdown",
   "id": "d8a44a78-f52d-47d1-9781-04b879acb2ca",
   "metadata": {},
   "source": [
    "## Model performance\n",
    "\n",
    "The last step is to use our test dataset (which we haven't touched yet) to evaluate the performance of the model.\n",
    "\n",
    "When I first ran this the accuracy was 85.3% which is not bad considering all we have done is add a single hidden layer of 16 neurons after our pre-trained embedding layer."
   ]
  },
  {
   "cell_type": "code",
   "execution_count": 10,
   "id": "0e6644c3-31fe-4b1e-a16c-98d498092618",
   "metadata": {},
   "outputs": [
    {
     "name": "stdout",
     "output_type": "stream",
     "text": [
      "49/49 - 1s - loss: 0.3604 - accuracy: 0.8526 - 1s/epoch - 22ms/step\n",
      "loss: 0.360\n",
      "accuracy: 0.853\n"
     ]
    }
   ],
   "source": [
    "results = model.evaluate(test_data.batch(512), verbose=2)\n",
    "\n",
    "for name, value in zip(model.metrics_names, results):\n",
    "  print(\"%s: %.3f\" % (name, value))"
   ]
  },
  {
   "cell_type": "markdown",
   "id": "e16ec3ab-1c2c-4b3e-a906-ab5090076fbf",
   "metadata": {},
   "source": [
    "# Suggested tasks\n",
    "1. Can you improve on the model performance?\n",
    "2. How does the speed of model training change if you try some of the other pre-trained text embeddings layers?"
   ]
  },
  {
   "cell_type": "code",
   "execution_count": null,
   "id": "0e848701-36c5-4d17-a684-42de3fb19e55",
   "metadata": {},
   "outputs": [],
   "source": []
  }
 ],
 "metadata": {
  "kernelspec": {
   "display_name": "Python 3 (ipykernel)",
   "language": "python",
   "name": "python3"
  },
  "language_info": {
   "codemirror_mode": {
    "name": "ipython",
    "version": 3
   },
   "file_extension": ".py",
   "mimetype": "text/x-python",
   "name": "python",
   "nbconvert_exporter": "python",
   "pygments_lexer": "ipython3",
   "version": "3.12.8"
  }
 },
 "nbformat": 4,
 "nbformat_minor": 5
}
